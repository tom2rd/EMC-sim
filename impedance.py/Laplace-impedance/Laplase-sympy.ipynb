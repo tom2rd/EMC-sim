{
 "cells": [
  {
   "cell_type": "markdown",
   "id": "c0d36204-5c59-47d3-b747-cac5411fcbad",
   "metadata": {
    "tags": []
   },
   "source": [
    "## Laplace transforms を SymPy　でやってみる\n",
    "\n",
    "The Laplace transform is  \n",
    "\n",
    "$$\\mathcal{L}\\{f(t)\\} = \\int_0^\\infty f(t) e^{-st} \\mathrm{d}s $$\n",
    "\n",
    "ラプラス変換をSymPyで行ってみる。　\n",
    "[Sympy のドキュメントのLaplace変換](https://docs.sympy.org/latest/modules/integrals/integrals.html#sympy.integrals.transforms.LaplaceTransform)"
   ]
  },
  {
   "cell_type": "code",
   "execution_count": 1,
   "id": "4b23cc74-1814-4f2b-a50b-0c568ccb46e7",
   "metadata": {
    "tags": []
   },
   "outputs": [],
   "source": [
    "from sympy import *\n",
    "t=Symbol('t', real=True)\n",
    "s=Symbol('s', real=True, positive=True)\n",
    "f=1\n",
    "F=Integral(f*exp(-s*t),(t,0,oo))"
   ]
  },
  {
   "cell_type": "code",
   "execution_count": 2,
   "id": "652332b3-48df-48e5-b66f-44c22c8850fd",
   "metadata": {},
   "outputs": [
    {
     "data": {
      "text/latex": [
       "$\\displaystyle \\int\\limits_{0}^{\\infty} e^{- s t}\\, dt$"
      ],
      "text/plain": [
       "Integral(exp(-s*t), (t, 0, oo))"
      ]
     },
     "execution_count": 2,
     "metadata": {},
     "output_type": "execute_result"
    }
   ],
   "source": [
    "F"
   ]
  },
  {
   "cell_type": "code",
   "execution_count": 3,
   "id": "605bbdf8-dbdb-470c-96b8-27e5ec8dd993",
   "metadata": {
    "tags": []
   },
   "outputs": [
    {
     "data": {
      "text/latex": [
       "$\\displaystyle \\frac{1}{s}$"
      ],
      "text/plain": [
       "1/s"
      ]
     },
     "execution_count": 3,
     "metadata": {},
     "output_type": "execute_result"
    }
   ],
   "source": [
    "F.doit() #.doit() は　Fを評価する。式を出すということ"
   ]
  },
  {
   "cell_type": "code",
   "execution_count": 4,
   "id": "653d420f-7ba5-4c47-b3e7-0d35bfd2a8fa",
   "metadata": {
    "tags": []
   },
   "outputs": [
    {
     "data": {
      "text/plain": [
       "(1/s, 0, True)"
      ]
     },
     "execution_count": 4,
     "metadata": {},
     "output_type": "execute_result"
    }
   ],
   "source": [
    "laplace_transform(f,t,s)"
   ]
  },
  {
   "cell_type": "code",
   "execution_count": 5,
   "id": "d3747066-9120-4753-8e23-28785b123630",
   "metadata": {
    "tags": []
   },
   "outputs": [
    {
     "data": {
      "text/latex": [
       "$\\displaystyle \\frac{1}{s}$"
      ],
      "text/plain": [
       "1/s"
      ]
     },
     "execution_count": 5,
     "metadata": {},
     "output_type": "execute_result"
    }
   ],
   "source": [
    "laplace_transform(f,t,s , noconds=True)"
   ]
  },
  {
   "cell_type": "markdown",
   "id": "4e9fa35a-bbc8-4469-81ad-27e2ed07faeb",
   "metadata": {},
   "source": [
    "ラプラス変換は線形です。つまり、\n",
    "\n",
    "$$ L\\left( at+bg\\right) =aL\\left( t\\right) +bL\\left( g\\right) $$\n",
    "\n",
    "もう 1 つの重要な特性は、シフト特性です。関数 𝑓(𝑡) にラプラス変換 𝐹(s) と exp(−𝑎𝑡) を掛けてからラプラス変換を行うと、これは 𝐹 の引数をシフトするだけです\n",
    "\n",
    "$$ \\mathcal L(e^{-at}f(t))=F(s+a) $$\n",
    "\n",
    "これは、exp(−𝑎𝑡) のラプラス変換を計算することで最も簡単にわかります。これは、定数 1 に exp(−𝑎𝑡) を乗算すると理解できるため、1/(s+𝑎) が得られるはずです。確認しよう："
   ]
  },
  {
   "cell_type": "code",
   "execution_count": 6,
   "id": "df429378-7530-457d-bee0-7280d6f1009b",
   "metadata": {
    "tags": []
   },
   "outputs": [
    {
     "data": {
      "text/latex": [
       "$\\displaystyle \\int\\limits_{0}^{\\infty} e^{- a t} e^{- s t}\\, dt$"
      ],
      "text/plain": [
       "Integral(exp(-a*t)*exp(-s*t), (t, 0, oo))"
      ]
     },
     "execution_count": 6,
     "metadata": {},
     "output_type": "execute_result"
    }
   ],
   "source": [
    "a=Symbol('a', real=True, positive=True)\n",
    "Integral(exp(-s*t)*exp(-a*t),(t,0,oo))"
   ]
  },
  {
   "cell_type": "code",
   "execution_count": 7,
   "id": "860ac105-f305-4ae3-9a25-91ec83da5778",
   "metadata": {
    "tags": []
   },
   "outputs": [
    {
     "data": {
      "text/latex": [
       "$\\displaystyle \\frac{1}{a + s}$"
      ],
      "text/plain": [
       "1/(a + s)"
      ]
     },
     "execution_count": 7,
     "metadata": {},
     "output_type": "execute_result"
    }
   ],
   "source": [
    "_.doit().simplify()"
   ]
  },
  {
   "cell_type": "markdown",
   "id": "87319848-b614-462c-9238-0c5e9589fa95",
   "metadata": {},
   "source": [
    "### laplace_transform　Sympyライブラリの関数\n",
    "\n",
    "収束するとは限らないことに注意"
   ]
  },
  {
   "cell_type": "code",
   "execution_count": 8,
   "id": "014540b2-0774-47f1-99fc-915bfc44d0a5",
   "metadata": {
    "tags": []
   },
   "outputs": [],
   "source": [
    "def L(f):\n",
    "    return sympy.laplace_transform(f, t, s, noconds=True)"
   ]
  },
  {
   "cell_type": "code",
   "execution_count": 9,
   "id": "a5022461-462a-485c-b7f2-a9de4b4280fd",
   "metadata": {
    "tags": []
   },
   "outputs": [],
   "source": [
    "def invL(F):\n",
    "    return sympy.inverse_laplace_transform(F, s, t)"
   ]
  },
  {
   "cell_type": "code",
   "execution_count": 10,
   "id": "525a6868-7ffc-4b6b-9e9c-a295a3bd1293",
   "metadata": {
    "tags": []
   },
   "outputs": [
    {
     "data": {
      "text/latex": [
       "$\\displaystyle \\mathcal{L}^{-1}_{s}\\left[\\int\\limits_{0}^{\\infty} e^{- s t}\\, dt\\right]\\left(t\\right)$"
      ],
      "text/plain": [
       "InverseLaplaceTransform(Integral(exp(-s*t), (t, 0, oo)), s, t, _None)"
      ]
     },
     "execution_count": 10,
     "metadata": {},
     "output_type": "execute_result"
    }
   ],
   "source": [
    "import sympy\n",
    "invL(F)"
   ]
  },
  {
   "cell_type": "code",
   "execution_count": 11,
   "id": "8b452ace-1c65-4873-8e74-fa3ac886a0c5",
   "metadata": {
    "tags": []
   },
   "outputs": [
    {
     "data": {
      "text/latex": [
       "$\\displaystyle \\int\\limits_{0}^{\\infty} e^{- s t}\\, dt$"
      ],
      "text/plain": [
       "Integral(exp(-s*t), (t, 0, oo))"
      ]
     },
     "execution_count": 11,
     "metadata": {},
     "output_type": "execute_result"
    }
   ],
   "source": [
    "F"
   ]
  },
  {
   "cell_type": "code",
   "execution_count": 12,
   "id": "b55973a4-b80a-42aa-959c-fcb722a6da16",
   "metadata": {
    "tags": []
   },
   "outputs": [],
   "source": [
    "f=sympy.exp(-a*t)"
   ]
  },
  {
   "cell_type": "code",
   "execution_count": 13,
   "id": "6e36d1d1-2acb-4a22-9a03-00c1adfa388a",
   "metadata": {
    "tags": []
   },
   "outputs": [
    {
     "data": {
      "text/latex": [
       "$\\displaystyle e^{- a t}$"
      ],
      "text/plain": [
       "exp(-a*t)"
      ]
     },
     "execution_count": 13,
     "metadata": {},
     "output_type": "execute_result"
    }
   ],
   "source": [
    "f"
   ]
  },
  {
   "cell_type": "code",
   "execution_count": 14,
   "id": "63bbf236-bc7c-4b7b-8e36-e71c96a11893",
   "metadata": {
    "tags": []
   },
   "outputs": [],
   "source": [
    "F=L(f)"
   ]
  },
  {
   "cell_type": "code",
   "execution_count": 15,
   "id": "41ae451b-bcaf-4c71-82e5-af66334c7529",
   "metadata": {
    "tags": []
   },
   "outputs": [
    {
     "data": {
      "text/latex": [
       "$\\displaystyle \\frac{1}{a + s}$"
      ],
      "text/plain": [
       "1/(a + s)"
      ]
     },
     "execution_count": 15,
     "metadata": {},
     "output_type": "execute_result"
    }
   ],
   "source": [
    "F"
   ]
  },
  {
   "cell_type": "code",
   "execution_count": 16,
   "id": "caec7503-a0d5-44b8-8eb6-19a0225a8ae1",
   "metadata": {
    "tags": []
   },
   "outputs": [
    {
     "data": {
      "text/latex": [
       "$\\displaystyle e^{- a t} \\theta\\left(t\\right)$"
      ],
      "text/plain": [
       "exp(-a*t)*Heaviside(t)"
      ]
     },
     "execution_count": 16,
     "metadata": {},
     "output_type": "execute_result"
    }
   ],
   "source": [
    "invL(F)"
   ]
  },
  {
   "cell_type": "markdown",
   "id": "ab2ea01e-5e9a-484f-88ea-e484b2195779",
   "metadata": {
    "tags": []
   },
   "source": [
    "$ \\theta (t) $ は単位ステップ関数は、ヘヴィサイド ステップ関数とも呼ばれます。この関数は逆ラプラス変換でよく見られます。"
   ]
  },
  {
   "cell_type": "code",
   "execution_count": 17,
   "id": "51d2c5ab-e4dd-4974-8e24-45370adc9d35",
   "metadata": {
    "tags": []
   },
   "outputs": [
    {
     "data": {
      "text/latex": [
       "$\\displaystyle \\theta\\left(t\\right)$"
      ],
      "text/plain": [
       "Heaviside(t)"
      ]
     },
     "execution_count": 17,
     "metadata": {},
     "output_type": "execute_result"
    }
   ],
   "source": [
    "sympy.Heaviside(t)"
   ]
  },
  {
   "cell_type": "code",
   "execution_count": 18,
   "id": "f6774922-ae64-4ecc-ab13-2d6df3ce5387",
   "metadata": {
    "tags": []
   },
   "outputs": [
    {
     "data": {
      "image/png": "[encoded data removed]",
      "text/plain": [
       "<Figure size 640x480 with 1 Axes>"
      ]
     },
     "metadata": {},
     "output_type": "display_data"
    }
   ],
   "source": [
    "sympy.plot(sympy.Heaviside(t));"
   ]
  },
  {
   "cell_type": "markdown",
   "id": "11ca28d7-b419-4ac6-b73c-a6b3c023c392",
   "metadata": {},
   "source": [
    "変数に値を代入: subs()メソッド a=2 を入れる　Sympy"
   ]
  },
  {
   "cell_type": "code",
   "execution_count": 19,
   "id": "4e2f473b-3780-47ea-9b8b-436812671a20",
   "metadata": {
    "tags": []
   },
   "outputs": [
    {
     "data": {
      "text/latex": [
       "$\\displaystyle e^{- 2 t} \\theta\\left(t\\right)$"
      ],
      "text/plain": [
       "exp(-2*t)*Heaviside(t)"
      ]
     },
     "execution_count": 19,
     "metadata": {},
     "output_type": "execute_result"
    }
   ],
   "source": [
    "invL(F).subs({a:2}) "
   ]
  },
  {
   "cell_type": "markdown",
   "id": "85a8dc52-9132-4a10-804c-db95efe84b3b",
   "metadata": {},
   "source": [
    "原関数と、ラプラス変換のの関数を表示"
   ]
  },
  {
   "cell_type": "code",
   "execution_count": 20,
   "id": "3ad3bcb7-ccb4-41bb-b93a-858ea33985fc",
   "metadata": {
    "tags": []
   },
   "outputs": [
    {
     "data": {
      "image/png": "[encoded data removed]",
      "text/plain": [
       "<Figure size 640x480 with 1 Axes>"
      ]
     },
     "metadata": {},
     "output_type": "display_data"
    }
   ],
   "source": [
    "p = sympy.plot(f.subs({a: 2}), invL(F).subs({a: 2}), \n",
    "               xlim=(-1, 4), ylim=(0, 3), show=False)\n",
    "p[1].line_color = 'red'\n",
    "p.show()"
   ]
  },
  {
   "cell_type": "markdown",
   "id": "52234e18-fd24-4a5b-9639-b9c908a4618a",
   "metadata": {},
   "source": [
    "# Laplace変換表　"
   ]
  },
  {
   "cell_type": "code",
   "execution_count": 21,
   "id": "855f44d4-d405-4bbd-aa43-a6a22e92b71e",
   "metadata": {
    "tags": []
   },
   "outputs": [
    {
     "data": {
      "text/plain": [
       "[1,\n",
       " t,\n",
       " exp(-a*t),\n",
       " t*exp(-a*t),\n",
       " t**2*exp(-a*t),\n",
       " sin(a*t),\n",
       " cos(a*t),\n",
       " 1 - exp(-a*t),\n",
       " exp(-a*t)*sin(t),\n",
       " exp(-a*t)*cos(t)]"
      ]
     },
     "execution_count": 21,
     "metadata": {},
     "output_type": "execute_result"
    }
   ],
   "source": [
    "omega = sympy.Symbol('omega', real=True)\n",
    "exp = sympy.exp\n",
    "sin = sympy.sin\n",
    "cos = sympy.cos\n",
    "functions = [1,\n",
    "         t,\n",
    "         exp(-a*t),\n",
    "         t*exp(-a*t),\n",
    "         t**2*exp(-a*t),\n",
    "         sin(a*t),\n",
    "         cos(a*t),\n",
    "         1 - exp(-a*t),\n",
    "         exp(-a*t)*sin(t),\n",
    "         exp(-a*t)*cos(t),\n",
    "         ]\n",
    "functions"
   ]
  },
  {
   "cell_type": "code",
   "execution_count": 22,
   "id": "c0731ab2-3b05-4d28-9e7e-4384ad2c2aec",
   "metadata": {
    "tags": []
   },
   "outputs": [],
   "source": [
    "Fs = [L(f) for f in functions]"
   ]
  },
  {
   "cell_type": "code",
   "execution_count": 23,
   "id": "b7eb721d-4665-43dd-87de-bca71a2bd7c2",
   "metadata": {
    "tags": []
   },
   "outputs": [],
   "source": [
    "from pandas import DataFrame"
   ]
  },
  {
   "cell_type": "code",
   "execution_count": 24,
   "id": "4fad91a0-8a33-4109-953e-e475306cec34",
   "metadata": {
    "tags": []
   },
   "outputs": [],
   "source": [
    "def makelatex(args):\n",
    "    return [\"$${}$$\".format(sympy.latex(a)) for a in args]"
   ]
  },
  {
   "cell_type": "code",
   "execution_count": 25,
   "id": "559b0937-c47d-4ab7-8d87-9f1ff21c94a2",
   "metadata": {
    "tags": []
   },
   "outputs": [
    {
     "data": {
      "text/html": [
       "<div>\n",
       "<style scoped>\n",
       "    .dataframe tbody tr th:only-of-type {\n",
       "        vertical-align: middle;\n",
       "    }\n",
       "\n",
       "    .dataframe tbody tr th {\n",
       "        vertical-align: top;\n",
       "    }\n",
       "\n",
       "    .dataframe thead th {\n",
       "        text-align: right;\n",
       "    }\n",
       "</style>\n",
       "<table border=\"1\" class=\"dataframe\">\n",
       "  <thead>\n",
       "    <tr style=\"text-align: right;\">\n",
       "      <th></th>\n",
       "      <th>0</th>\n",
       "      <th>1</th>\n",
       "    </tr>\n",
       "  </thead>\n",
       "  <tbody>\n",
       "    <tr>\n",
       "      <th>0</th>\n",
       "      <td>$$1$$</td>\n",
       "      <td>$$\\frac{1}{s}$$</td>\n",
       "    </tr>\n",
       "    <tr>\n",
       "      <th>1</th>\n",
       "      <td>$$t$$</td>\n",
       "      <td>$$\\frac{1}{s^{2}}$$</td>\n",
       "    </tr>\n",
       "    <tr>\n",
       "      <th>2</th>\n",
       "      <td>$$e^{- a t}$$</td>\n",
       "      <td>$$\\frac{1}{a + s}$$</td>\n",
       "    </tr>\n",
       "    <tr>\n",
       "      <th>3</th>\n",
       "      <td>$$t e^{- a t}$$</td>\n",
       "      <td>$$\\frac{1}{\\left(a + s\\right)^{2}}$$</td>\n",
       "    </tr>\n",
       "    <tr>\n",
       "      <th>4</th>\n",
       "      <td>$$t^{2} e^{- a t}$$</td>\n",
       "      <td>$$\\frac{2}{\\left(a + s\\right)^{3}}$$</td>\n",
       "    </tr>\n",
       "    <tr>\n",
       "      <th>5</th>\n",
       "      <td>$$\\sin{\\left(a t \\right)}$$</td>\n",
       "      <td>$$\\frac{a}{a^{2} + s^{2}}$$</td>\n",
       "    </tr>\n",
       "    <tr>\n",
       "      <th>6</th>\n",
       "      <td>$$\\cos{\\left(a t \\right)}$$</td>\n",
       "      <td>$$\\frac{s}{a^{2} + s^{2}}$$</td>\n",
       "    </tr>\n",
       "    <tr>\n",
       "      <th>7</th>\n",
       "      <td>$$1 - e^{- a t}$$</td>\n",
       "      <td>$$- \\frac{1}{a + s} + \\frac{1}{s}$$</td>\n",
       "    </tr>\n",
       "    <tr>\n",
       "      <th>8</th>\n",
       "      <td>$$e^{- a t} \\sin{\\left(t \\right)}$$</td>\n",
       "      <td>$$\\frac{1}{\\left(a + s\\right)^{2} + 1}$$</td>\n",
       "    </tr>\n",
       "    <tr>\n",
       "      <th>9</th>\n",
       "      <td>$$e^{- a t} \\cos{\\left(t \\right)}$$</td>\n",
       "      <td>$$\\frac{a + s}{\\left(a + s\\right)^{2} + 1}$$</td>\n",
       "    </tr>\n",
       "  </tbody>\n",
       "</table>\n",
       "</div>"
      ],
      "text/plain": [
       "                                     0  \\\n",
       "0                                $$1$$   \n",
       "1                                $$t$$   \n",
       "2                        $$e^{- a t}$$   \n",
       "3                      $$t e^{- a t}$$   \n",
       "4                  $$t^{2} e^{- a t}$$   \n",
       "5          $$\\sin{\\left(a t \\right)}$$   \n",
       "6          $$\\cos{\\left(a t \\right)}$$   \n",
       "7                    $$1 - e^{- a t}$$   \n",
       "8  $$e^{- a t} \\sin{\\left(t \\right)}$$   \n",
       "9  $$e^{- a t} \\cos{\\left(t \\right)}$$   \n",
       "\n",
       "                                              1  \n",
       "0                               $$\\frac{1}{s}$$  \n",
       "1                           $$\\frac{1}{s^{2}}$$  \n",
       "2                           $$\\frac{1}{a + s}$$  \n",
       "3          $$\\frac{1}{\\left(a + s\\right)^{2}}$$  \n",
       "4          $$\\frac{2}{\\left(a + s\\right)^{3}}$$  \n",
       "5                   $$\\frac{a}{a^{2} + s^{2}}$$  \n",
       "6                   $$\\frac{s}{a^{2} + s^{2}}$$  \n",
       "7           $$- \\frac{1}{a + s} + \\frac{1}{s}$$  \n",
       "8      $$\\frac{1}{\\left(a + s\\right)^{2} + 1}$$  \n",
       "9  $$\\frac{a + s}{\\left(a + s\\right)^{2} + 1}$$  "
      ]
     },
     "execution_count": 25,
     "metadata": {},
     "output_type": "execute_result"
    }
   ],
   "source": [
    "DataFrame(list(zip(makelatex(functions), makelatex(Fs))))"
   ]
  },
  {
   "cell_type": "markdown",
   "id": "f2a705e5-5bfd-42b5-bf49-35d69128fc03",
   "metadata": {
    "tags": []
   },
   "source": [
    "# 関数の形を見てみる\n",
    "i= に関数の数字を入れてみて"
   ]
  },
  {
   "cell_type": "code",
   "execution_count": 28,
   "id": "82971697-4ee0-477e-b3d5-66e9415b143d",
   "metadata": {
    "tags": []
   },
   "outputs": [
    {
     "data": {
      "image/png": "[encoded data removed]",
      "text/plain": [
       "<Figure size 1200x800 with 1 Axes>"
      ]
     },
     "metadata": {},
     "output_type": "display_data"
    },
    {
     "data": {
      "text/latex": [
       "$\\displaystyle e^{- a t} \\sin{\\left(t \\right)}$"
      ],
      "text/plain": [
       "exp(-a*t)*sin(t)"
      ]
     },
     "execution_count": 28,
     "metadata": {},
     "output_type": "execute_result"
    }
   ],
   "source": [
    "import matplotlib.pyplot as plt\n",
    "import numpy as np\n",
    "\n",
    "fig, ax = plt.subplots(constrained_layout=True, figsize=(12, 8))\n",
    "x=np.linspace(-2,2,200)\n",
    "i=8\n",
    "f=lambdify(t,functions[i].subs({a:1}))\n",
    "f=f(x)\n",
    "ax.plot(x,f)\n",
    "plt.show()\n",
    "functions[i]"
   ]
  },
  {
   "cell_type": "code",
   "execution_count": 29,
   "id": "206d1efe-e338-43f2-82c1-b4f413953f44",
   "metadata": {
    "tags": []
   },
   "outputs": [
    {
     "data": {
      "image/png": "[encoded data removed]",
      "text/plain": [
       "<Figure size 1200x800 with 1 Axes>"
      ]
     },
     "metadata": {},
     "output_type": "display_data"
    },
    {
     "data": {
      "text/latex": [
       "$\\displaystyle \\frac{1}{\\left(a + s\\right)^{2} + 1}$"
      ],
      "text/plain": [
       "1/((a + s)**2 + 1)"
      ]
     },
     "execution_count": 29,
     "metadata": {},
     "output_type": "execute_result"
    }
   ],
   "source": [
    "fig, ax = plt.subplots(constrained_layout=True, figsize=(12, 8))\n",
    "x=np.linspace(0.1,2,200)\n",
    "i=8\n",
    "f=lambdify(s,Fs[i].subs({a:1}))\n",
    "f=f(x)\n",
    "ax.plot(x,f)\n",
    "plt.show()\n",
    "Fs[i]"
   ]
  },
  {
   "cell_type": "code",
   "execution_count": null,
   "id": "aa1d0300-bd5b-498f-bfd7-31de7a7bcd4f",
   "metadata": {},
   "outputs": [],
   "source": []
  }
 ],
 "metadata": {
  "kernelspec": {
   "display_name": "Python 3 (ipykernel)",
   "language": "python",
   "name": "python3"
  },
  "language_info": {
   "codemirror_mode": {
    "name": "ipython",
    "version": 3
   },
   "file_extension": ".py",
   "mimetype": "text/x-python",
   "name": "python",
   "nbconvert_exporter": "python",
   "pygments_lexer": "ipython3",
   "version": "3.11.4"
  }
 },
 "nbformat": 4,
 "nbformat_minor": 5
}
