{
 "cells": [
  {
   "cell_type": "markdown",
   "metadata": {},
   "source": [
    "# SymPy で　latex 出力"
   ]
  },
  {
   "cell_type": "code",
   "execution_count": 1,
   "metadata": {},
   "outputs": [],
   "source": [
    "import sympy\n",
    "t, s = sympy.symbols('t, s')\n",
    "a = sympy.symbols('a', real=True, positive=True)"
   ]
  },
  {
   "cell_type": "code",
   "execution_count": 7,
   "metadata": {},
   "outputs": [],
   "source": [
    "def makelatex(args):\n",
    "    return [\"$${}$$\".format(sympy.latex(args))]"
   ]
  },
  {
   "cell_type": "code",
   "execution_count": 8,
   "metadata": {},
   "outputs": [],
   "source": [
    "R0=sympy.Symbol('R0', real=True, positive=True)\n",
    "R1=sympy.Symbol('R1', real=True, positive=True)\n",
    "R2=sympy.Symbol('R2', real=True, positive=True)\n",
    "R3=sympy.Symbol('R3', real=True, positive=True)\n",
    "C0=sympy.Symbol('C0', real=True, positive=True)\n",
    "C1=sympy.Symbol('C1', real=True, positive=True)\n",
    "C2=sympy.Symbol('C2', real=True, positive=True)\n",
    "C3=sympy.Symbol('C3', real=True, positive=True)\n",
    "L0=sympy.Symbol('L0', real=True, positive=True)\n",
    "L1=sympy.Symbol('L1', real=True, positive=True)\n",
    "L2=sympy.Symbol('L2', real=True, positive=True)\n",
    "L3=sympy.Symbol('L3', real=True, positive=True)"
   ]
  },
  {
   "cell_type": "code",
   "execution_count": 9,
   "metadata": {},
   "outputs": [],
   "source": [
    "F=1/(s*C0)+R0+s*L0"
   ]
  },
  {
   "cell_type": "code",
   "execution_count": 11,
   "metadata": {},
   "outputs": [
    {
     "data": {
      "text/latex": [
       "$\\displaystyle L_{0} s + R_{0} + \\frac{1}{C_{0} s}$"
      ],
      "text/plain": [
       "L0*s + R0 + 1/(C0*s)"
      ]
     },
     "execution_count": 11,
     "metadata": {},
     "output_type": "execute_result"
    }
   ],
   "source": [
    "F"
   ]
  },
  {
   "cell_type": "code",
   "execution_count": 10,
   "metadata": {},
   "outputs": [
    {
     "data": {
      "text/plain": [
       "['$$L_{0} s + R_{0} + \\\\frac{1}{C_{0} s}$$']"
      ]
     },
     "execution_count": 10,
     "metadata": {},
     "output_type": "execute_result"
    }
   ],
   "source": [
    "makelatex(F)"
   ]
  },
  {
   "cell_type": "markdown",
   "metadata": {},
   "source": [
    "$$L_{0} s + R_{0} + \\frac{1}{C_{0} s}$$"
   ]
  },
  {
   "cell_type": "code",
   "execution_count": null,
   "metadata": {},
   "outputs": [],
   "source": []
  }
 ],
 "metadata": {
  "kernelspec": {
   "display_name": "impedance-analysis",
   "language": "python",
   "name": "python3"
  },
  "language_info": {
   "codemirror_mode": {
    "name": "ipython",
    "version": 3
   },
   "file_extension": ".py",
   "mimetype": "text/x-python",
   "name": "python",
   "nbconvert_exporter": "python",
   "pygments_lexer": "ipython3",
   "version": "3.11.4"
  },
  "orig_nbformat": 4
 },
 "nbformat": 4,
 "nbformat_minor": 2
}
